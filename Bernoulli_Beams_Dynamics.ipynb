{
 "cells": [
  {
   "cell_type": "markdown",
   "metadata": {},
   "source": [
    "# Dynamics of Kirchhoff Plates"
   ]
  },
  {
   "cell_type": "markdown",
   "metadata": {},
   "source": [
    "$D\\nabla^2\\nabla^2w = q - \\rho h\\ddot{w}$,\n",
    "\n",
    "with $w$ being the displacement normal to the plate, $q$ external normal stress applied along the plate, $h$ the plate thickness. Moreover\n",
    "\n",
    "$D = \\frac{Eh^3}{12(1-\\nu^2)}$,\n",
    "\n",
    "with $\\rho$, $E$ and $\\nu$ being the plate constitutive properties, respectively its density, Young's modulus and Poisson's ratio."
   ]
  },
  {
   "cell_type": "markdown",
   "metadata": {},
   "source": [
    "## Uniaxial deformation of rectangular plates"
   ]
  },
  {
   "cell_type": "markdown",
   "metadata": {},
   "source": [
    "For rectangular plates that are deformed only along a single direction---let's say along $x$---the plates equation simplifies into the equation of motion of a Bernoulli beam:\n",
    "\n",
    "$EI\\frac{\\partial^4 w}{\\partial x^4} = q(r,t) - \\mu \\frac{\\partial^2 w}{\\partial t^2}$."
   ]
  },
  {
   "cell_type": "markdown",
   "metadata": {},
   "source": [
    "## Finite element approximation"
   ]
  },
  {
   "cell_type": "markdown",
   "metadata": {},
   "source": [
    "The finite element method solves the plate equation of motion in its variational (or weak) form:\n",
    "\n",
    "\\begin{equation}\n",
    "EI\\int_0^R \\Big(\\partial_x^2 w(x,t) \\partial_x^2\\tilde{w}(x,t) dx\\Big) = \\int_0^R\\Big(q(x,t)\\tilde{w}(x,t) dx\\Big) -\\mu \\int_0^R\\Big(\\ddot{w}(x,t)\\tilde{w}(x,t) dx\\Big),\n",
    "\\end{equation}\n",
    "\n",
    "with $\\tilde{w}$ being an arbitrary test function of differentiability class $C^2$ that is zero on the region of the plate with imposed-displacement boundary conditions. (I will write a separate note detailing how to obtain this variational form). \n",
    "Next the plate of interest is discretized with sampling points ($=$nodes) from which the displacement field is interpolated over space following:\n",
    "\n",
    "$$\n",
    "w(x,t) = \\sum_i N_i(x)w_i(t) = \\underline{N}(x)\\cdot\\underline{d}(t),\n",
    "$$\n",
    "\n",
    "with $\\underline{d}$ a vector containing the values of the unknown field $w$ at the nodes and $\\underline{N}$ the associated vector containing the interpolation functions (aka shape functions). Using the same interpolation for $\\tilde{w}(x,t)= \\underline{N}(x)\\cdot\\underline{\\tilde{d}}(t)$, the variational form can be written as\n",
    "\n",
    "\\begin{equation}\n",
    "EI\\int_0^L \\Big(\\partial_x^2\\underline{N}\\underline{d}\\partial_x^2\\underline{N}\\underline{\\tilde{d}} dx\\Big) = \\int_0^L\\Big(q(x,t)\\underline{N}\\underline{\\tilde{d}} dx\\Big) -\\mu \\int_0^L\\Big(\\underline{N}\\underline{\\ddot{d}}\\underline{N}\\underline{\\tilde{d}} dx\\Big).\n",
    "\\end{equation}\n",
    "\n",
    "The displacement vectors do not depend on $r$ and could be taken out of the integral by rewritting it as:\n",
    "\n",
    "\\begin{equation}\n",
    "\\underline{\\tilde{d}}^{\\top}EI\\int_0^R \\Big(\\partial_x^2\\underline{N}^\\top\\partial_x^2\\underline{N}dx\\Big)\\underline{d} = \\underline{\\tilde{d}}^{\\top}\\int_0^R\\Big(\\underline{N}^\\top q(x,t)dx\\Big) - \\underline{\\tilde{d}}^{\\top}\\mu\\int_0^R\\Big(\\underline{N}^\\top\\underline{N} dx\\Big)\\underline{\\ddot{d}}.\n",
    "\\end{equation}"
   ]
  },
  {
   "cell_type": "markdown",
   "metadata": {},
   "source": [
    "As the test function is arbitrary, $\\underline{\\tilde{d}}^\\top$ can be dropped in the equation above which takes then the form:\n",
    "\\begin{equation}\n",
    "{\\bf K}\\underline{d} = \\underline{f}_{\\rm ext} - {\\bf M}\\underline{\\ddot{d}},\n",
    "\\end{equation}\n",
    "with ${\\bf K}$ and ${\\bf M}$ being respectively referred to as the stiffness and mass matrices. $\\underline{f}_{\\rm ext}$ is the vector of externally applied forces."
   ]
  },
  {
   "cell_type": "markdown",
   "metadata": {},
   "source": [
    "The strategy behind finite element modelling is to pick up interpolation functions that are piecewise polynomials taking finite values over some portion of the domain (aka the element) and being zero elsewhere. In the 1D geometry of interest, an element simply corresponds to a segment with two nodes at its edges. To guarantee the convergence of the numerical scheme, the choice of these polynomials must respect mainly two criteria:\n",
    "1) The interpolation should be of class $C^{m-1}$ across the element boundaries.\n",
    "\n",
    "2) The interpolation should be of class $C^{m}$ in the element and the polynomials should be complete up to degree $m$.\n",
    "\n",
    "$m$ corresponds to the order of the variational form of the equation, $m=2$ for Kirchhoff plate equation. \n",
    "1) requires both $w$ and $\\partial w/\\partial r\\equiv\\theta$ to be continuous between two elements, which could be achieved by settings both $w$ and its first derivative $\\theta$ as nodal unknowns (aka degrees of freedom). The displacements vector for an element reads then\n",
    "\\begin{equation}\n",
    "\\underline{d}^e \\equiv \\lbrace w_1, \\theta_1, w_2, \\theta_2\\rbrace,\n",
    "\\end{equation}\n",
    "with the subscript $1$ and $2$ referring respectively to the left and right nodes of the element.\n",
    "\n",
    "2) can be satisfied by using Hermite shape functions. They correspond to third-order polynomials defined as the displacement field obtained through an element by setting the degree of freedom of interest to one and the three others to zero. (This might become clearer after looking at the next cell)."
   ]
  },
  {
   "cell_type": "code",
   "execution_count": null,
   "metadata": {},
   "outputs": [],
   "source": [
    "import scipy.special as sp\n",
    "import numpy as np\n",
    "import matplotlib.pyplot as plt\n",
    "import sympy as syp"
   ]
  },
  {
   "cell_type": "code",
   "execution_count": null,
   "metadata": {},
   "outputs": [],
   "source": [
    "#Computing Hermite shape functions for one element\n",
    "from sympy.abc import a,b,c,d\n",
    "dofs_per_node = 2\n",
    "nodes_per_elem = 2\n",
    "x, xl, xr = syp.symbols('x x_l x_r')\n",
    "uns = np.array([[1,0,0,0],[0,0,1,0],[0,1,0,0],[0,0,0,1]])\n",
    "N = []\n",
    "for u in range(0,dofs_per_node*nodes_per_elem):\n",
    "    shape = syp.solve_poly_system([a*xl*xl*xl+b*xl*xl+c*xl+d-uns[0,u],a*xr*xr*xr+b*xr*xr+c*xr+d-uns[1,u],3*a*xl*xl+2*b*xl+c-uns[2,u],3*a*xr*xr+2*b*xr+c-uns[3,u]], a, b, c, d)\n",
    "    func = shape[0][0]*x*x*x + shape[0][1]*x*x + shape[0][2]*x + shape[0][3]\n",
    "    N.append(syp.factor(func.simplify()))"
   ]
  },
  {
   "cell_type": "code",
   "execution_count": null,
   "metadata": {},
   "outputs": [],
   "source": [
    "#Display the shape function of interest (for an element between r=1 and r=2)\n",
    "shape_no = 1\n",
    "syp.plot(N[shape_no].subs([(xl,1),(xr,2)]),(x,1,2),title='$N= $'+str(N[shape_no]),ylabel=None)"
   ]
  },
  {
   "cell_type": "markdown",
   "metadata": {},
   "source": [
    "Once the shape functions have been properly defined, one can compute the element stiffess matrix (for the nodal positions $x=x_l$ and $x=x_r$):\n",
    "\\begin{equation}\n",
    "{\\bf K}^e \\equiv EI\\int_{x_l}^{x_r} \\Big(\\partial_x^2\\underline{N}^\\top\\partial_x^2\\underline{N}dx\\Big)\n",
    "\\end{equation}\n",
    "and the element mass matrix\n",
    "\\begin{equation}\n",
    "{\\bf M}^e \\equiv \\mu\\int_{x_r}^{x_l} \\Big(\\underline{N}^\\top\\underline{N}dx\\Big).\n",
    "\\end{equation}"
   ]
  },
  {
   "cell_type": "code",
   "execution_count": null,
   "metadata": {},
   "outputs": [],
   "source": [
    "#Taking EI=1, \\mu h=1 (could be readily set to dimensional values later)\n",
    "k = []\n",
    "m = []\n",
    "for i in range(0,dofs_per_node*nodes_per_elem):\n",
    "    k.append([])\n",
    "    m.append([])\n",
    "    for j in range(i,dofs_per_node*nodes_per_elem):\n",
    "        nabla_Nt = syp.simplify(syp.diff((syp.diff(N[i],x)),x))\n",
    "        nabla_N = syp.simplify(syp.diff((syp.diff(N[j],x)),x))\n",
    "        k[i].append(syp.factor(syp.integrate(nabla_Nt*nabla_N,(x,xl,xr))))\n",
    "        m[i].append(syp.factor(syp.integrate(N[i]*N[j],(x,xl,xr))))\n",
    "Kalg = syp.Matrix(4,4,lambda i,j: k[i][j-i] if(j>=i) else k[j][i-j])\n",
    "Malg = syp.Matrix(4,4,lambda i,j: m[i][j-i] if(j>=i) else m[j][i-j])"
   ]
  },
  {
   "cell_type": "markdown",
   "metadata": {},
   "source": [
    "Solving the finite element problem consists then by discretizing the plate of interest with elements"
   ]
  },
  {
   "cell_type": "code",
   "execution_count": null,
   "metadata": {},
   "outputs": [],
   "source": [
    "plate_length = 1.0\n",
    "nb_nodes = 128\n",
    "nodes = np.linspace(0.,plate_length,nb_nodes)\n",
    "nb_elements = nb_nodes-1 "
   ]
  },
  {
   "cell_type": "markdown",
   "metadata": {},
   "source": [
    "and computing the global matrices ${\\bf K}$ and ${\\bf M}$ as an assembly of the element matrices ${\\bf K}_e$ and ${\\bf M}_e$ evaluated for each element. The resulting ${\\bf K}$ and ${\\bf M}$ are sparse matrices of size _nb_dofs_ x _nb_dofs_."
   ]
  },
  {
   "cell_type": "code",
   "execution_count": null,
   "metadata": {},
   "outputs": [],
   "source": [
    "#Can take some time for fine mesh\n",
    "import scipy.sparse as spa\n",
    "from tqdm import tqdm\n",
    "K_ref = spa.lil_matrix((nb_nodes*dofs_per_node,nb_nodes*dofs_per_node),dtype=np.float64)\n",
    "M_ref = spa.lil_matrix((nb_nodes*dofs_per_node,nb_nodes*dofs_per_node),dtype=np.float64)\n",
    "for e in tqdm(range(0,nb_elements)):\n",
    "    n1 = e\n",
    "    n2 = e+1\n",
    "    for l in range(0, dofs_per_node*nodes_per_elem):\n",
    "        for c in range(0, dofs_per_node*nodes_per_elem):\n",
    "            K_ref[n1*dofs_per_node+l,n1*dofs_per_node+c] += syp.limit(syp.limit(Kalg[l,c], xl, nodes[n1]), xr, nodes[n2])\n",
    "            M_ref[n1*dofs_per_node+l,n1*dofs_per_node+c] += syp.limit(syp.limit(Malg[l,c], xl, nodes[n1]), xr, nodes[n2])"
   ]
  },
  {
   "cell_type": "markdown",
   "metadata": {},
   "source": [
    "Using this finite element approach, we now have some freedom to model different types of problems and boundary conditions."
   ]
  },
  {
   "cell_type": "markdown",
   "metadata": {},
   "source": [
    "### Example 1: modal analysis"
   ]
  },
  {
   "cell_type": "markdown",
   "metadata": {},
   "source": [
    "For instance, we can repeat numerically the modal analysis presented above. Neglecting again the effect of externally applied stress and using the same decomposition $w(r,t)=W(r)\\Big(C_1e^{i\\omega_nt}+C_2e^{-i\\omega_nt}\\Big)$, the finite element equation of motion becomes:\n",
    "\\begin{equation}\n",
    "{\\bf K}\\underline{d} = \\omega^2{\\bf M}\\underline{d},\n",
    "\\end{equation}\n",
    "which leads to the following eigenvalue problem\n",
    "\\begin{equation}\n",
    "{\\bf M}^{-1}{\\bf K}\\underline{d} = \\omega^2\\underline{d}.\n",
    "\\end{equation}"
   ]
  },
  {
   "cell_type": "markdown",
   "metadata": {},
   "source": [
    "First, we need to apply the boundary conditions, which implies to remove the blocked degrees of freedom and their associated rows and columns in ${\\bf K}$ and ${\\bf M}$."
   ]
  },
  {
   "cell_type": "code",
   "execution_count": null,
   "metadata": {},
   "outputs": [],
   "source": [
    "def removeRowsAndColumns(smat,indexes):\n",
    "    for index in np.sort(indexes)[::-1]:\n",
    "        smat.rows = np.delete(smat.rows, index)\n",
    "        smat.data = np.delete(smat.data, index)\n",
    "        l=0\n",
    "        for list in smat.rows:\n",
    "            i=0\n",
    "            while i<len(list):\n",
    "                if(list[i]>index):\n",
    "                    list[i] -= 1\n",
    "                elif(list[i]==index):\n",
    "                    del list[i]\n",
    "                    del smat.data[l][i]\n",
    "                    i-=1\n",
    "                i+=1\n",
    "            l+=1\n",
    "        smat._shape = (smat._shape[0]-1,smat._shape[1]-1)\n",
    "    return"
   ]
  },
  {
   "cell_type": "markdown",
   "metadata": {},
   "source": [
    "Let's assume a cantilever situation where the beam is clamped at its left end, such that both $w$ and $\\partial w/\\partial x$ are zero there."
   ]
  },
  {
   "cell_type": "code",
   "execution_count": null,
   "metadata": {},
   "outputs": [],
   "source": [
    "K = spa.lil_matrix(K_ref,copy=True)\n",
    "M = spa.lil_matrix(M_ref,copy=True)\n",
    "blocked_dofs = np.array([0,1])\n",
    "removeRowsAndColumns(K,blocked_dofs)\n",
    "removeRowsAndColumns(M,blocked_dofs)"
   ]
  },
  {
   "cell_type": "markdown",
   "metadata": {},
   "source": [
    "Then we can solve the eigenvalue problem:"
   ]
  },
  {
   "cell_type": "code",
   "execution_count": null,
   "metadata": {},
   "outputs": [],
   "source": [
    "import scipy.sparse.linalg\n",
    "#More efficient format for matrix operations\n",
    "K = K.tocsc()\n",
    "M = M.tocsc()\n",
    "invMK = spa.linalg.inv(M)@K\n",
    "#Solve for the first three modes\n",
    "puls, displ = spa.linalg.eigs(invMK,k=3,sigma=0,which='LM')"
   ]
  },
  {
   "cell_type": "markdown",
   "metadata": {},
   "source": [
    "and display the result:"
   ]
  },
  {
   "cell_type": "code",
   "execution_count": null,
   "metadata": {},
   "outputs": [],
   "source": [
    "displ.shape"
   ]
  },
  {
   "cell_type": "code",
   "execution_count": null,
   "metadata": {},
   "outputs": [],
   "source": [
    "n=1 #Mode number\n",
    "index = np.argsort(puls)[n-1]\n",
    "#Extract the displacements from the dofs (ignore the derivatives)\n",
    "w_fem = displ[0::2,index].real/displ[-2,index].real\n",
    "w_fem = np.insert(w_fem,0,0.)\n",
    "fig3,ax3 = plt.subplots()\n",
    "ax3.plot(nodes,w_fem,'.-g')\n",
    "ax3.set_xlabel('$x/L$')\n",
    "ax3.set_ylabel('$W_'+str(n)+'(x)$')\n",
    "ax3.set_title('$\\\\omega_'+str(n)+'$=$'+str(np.sqrt(puls[index].real))+'$')"
   ]
  },
  {
   "cell_type": "markdown",
   "metadata": {},
   "source": [
    "### Example 2: Dynamic simulation"
   ]
  },
  {
   "cell_type": "markdown",
   "metadata": {},
   "source": [
    "Dynamic simulation implies to compute the time evolution of $\\underline{d}$. First, time is sampled with a constant time step $\\Delta t$, such that the equation of motion of the finite element system at the $m^{\\rm th}$ time step writes:\n",
    "\\begin{equation}\n",
    "{\\bf M}\\ddot{\\underline{d}}^m+{\\bf K}\\underline{d}^m = \\underline{f}^m_{\\rm ext}.\n",
    "\\end{equation}\n",
    "Time integration between $t$ and $t+\\Delta t$ is then required to compute the degrees of freedom at the next time step $\\underline{d}^{m+1}$. This is typically done using a Newmark time stepping scheme. See the Appendix of the supporting note for detailed information about Newmark methods."
   ]
  },
  {
   "cell_type": "markdown",
   "metadata": {},
   "source": [
    "Newmark-$\\beta$ algorithm is adopted hereafter for the time integration and consists of the following steps:\n",
    "\n",
    "i) Compute residual $\\underline{r}^{m+1} = f_{\\rm ext}^{m+1} - {\\bf M}\\ddot{\\underline{d}}^{m} - {\\bf K}\\Big(\\underline{d}^{m}+\\dot{\\underline{d}}^{m}\\Delta t+\\ddot{\\underline{d}}^{m}\\frac{(\\Delta t)^2}{2}\\Big)$\n",
    "\n",
    "ii) Compute increment $\\ddot{\\delta}=\\Big({\\bf M}+\\beta{\\bf K}\\frac{(\\Delta t)^2}{2}\\Big)^{-1}\\underline{r}^{m+1}\\equiv{\\bf A}\\underline{r}^{m+1}$\n",
    "\n",
    "iii) Update degrees of freedom: \n",
    "\n",
    "$\\ddot{\\underline{d}}^{m+1} = \\ddot{\\underline{d}}^{m}+\\ddot{\\delta}$\n",
    "\n",
    "$\\dot{\\underline{d}}^{m+1} = \\dot{\\underline{d}}^{m}+\\Big(\\ddot{\\underline{d}}^{m}+\\frac{1}{2}\\ddot{\\delta}\\Big)\\Delta t$\n",
    "\n",
    "$\\underline{d}^{m+1} = \\underline{d}^{m}+\\dot{\\underline{d}}^{m}\\Delta t+\\Big(\\ddot{\\underline{d}}^{m}+\\beta\\ddot{\\delta}\\Big)\\frac{(\\Delta t)^2}{2}$\n",
    "\n",
    "Note that for the linear problems of interest ${\\bf M}$, ${\\bf K}$ and ${\\bf A}$ do not change with deformation and time integration is performed in a single execution of i), ii) and iii). For non-linear systems, those steps might have to be repeated iteratively. \n",
    "\n",
    "Two values of $\\beta$ are usually used in pratice. $\\beta=0.5$ has the advantage of being unconditionnaly stable. $\\beta=0$ can be used in association to a \"lumped mass matrix\" (diagonal approximation of ${\\bf M}$) to speed-up the Newmark scheme at the cost of a conditional stability (only small $\\Delta t$ are stable).  "
   ]
  },
  {
   "cell_type": "markdown",
   "metadata": {},
   "source": [
    "#### Boundary conditions"
   ]
  },
  {
   "cell_type": "markdown",
   "metadata": {},
   "source": [
    "Two types of boundary conditions can be applied to every degrees of freedom of the system. Either Dirichelet boudary condition (imposed-displacement) that sets the value of $d_d$ or Neumann boundary condition (imposed-force) that sets the value of $f_n$. (Note that no boundary condition usually corresponds to a free boundary condition, i.e. $f_n=0$.)\n",
    "Consequently, the unknowns to compute at each time step correspond to $d_n$ and $f_d$ Partitionning the equation of motion accordingly, one can write:\n",
    "\\begin{equation}\n",
    "\\left[\n",
    "\\begin{array}{c|c}\n",
    "{\\bf M}_{dd} & {\\bf M}_{dn}\\\\\n",
    "\\hline\n",
    "{\\bf M}_{nd} & {\\bf M}_{nn}\n",
    "\\end{array}\\right]\n",
    "\\left\\lbrace\n",
    "\\begin{array}{c}\n",
    "\\ddot{\\underline{d}}_d\\\\\n",
    "\\hline\n",
    "\\ddot{\\underline{d}}_n\n",
    "\\end{array}\\right\\rbrace +\n",
    "\\left[\n",
    "\\begin{array}{c|c}\n",
    "{\\bf K}_{dd} & {\\bf K}_{dn}\\\\\n",
    "\\hline\n",
    "{\\bf K}_{nd} & {\\bf K}_{nn}\n",
    "\\end{array}\\right]\n",
    "\\left\\lbrace\n",
    "\\begin{array}{c}\n",
    "\\underline{d}_d\\\\\n",
    "\\hline\n",
    "\\underline{d}_n\n",
    "\\end{array}\\right\\rbrace =\n",
    "\\left\\lbrace\n",
    "\\begin{array}{c}\n",
    "\\underline{f}_d\\\\\n",
    "\\hline\n",
    "\\underline{f}_n\n",
    "\\end{array}\\right\\rbrace.\n",
    "\\end{equation}\n",
    "From the linear system of equations above, one can compute the displacement unkowns by rewriting the second row as:\n",
    "\\begin{equation}\n",
    "{\\bf M}_{nn}\\ddot{\\underline{d}}_n + {\\bf K}_{nn}\\underline{d}_n = \\underline{f}_n - {\\bf M}_{nd}\\ddot{\\underline{d}}_d - {\\bf K}_{nd}\\underline{d}_d.\n",
    "\\end{equation}\n",
    "Applying the boundary conditions consists then in including the effect of blocked displacements (Dirichelet B.C.) in the array of external force: $\\underline{f}_{\\rm ext}\\equiv \\underline{f}_n - {\\bf M}_{nd}\\ddot{\\underline{d}}_d - {\\bf K}_{nd}\\underline{d}_d $ and removing the line and column of ${\\bf M}$ and ${\\bf K}$ associated to Neumann B.C before computing the Newmark integration scheme.\n",
    "\n",
    "We could also compute the reaction forces $f_d$ associated to the imposed displacements by using the first row of the system of equations above:\n",
    "\\begin{equation}\n",
    "\\underline{f}_d =  {\\bf M}_{dd}\\ddot{\\underline{d}}_d + {\\bf M}_{dn}\\ddot{\\underline{d}}_n + {\\bf K}_{dd}\\ddot{\\underline{d}}_d + {\\bf K}_{dn}\\ddot{\\underline{d}}_n \n",
    "\\end{equation}"
   ]
  },
  {
   "cell_type": "code",
   "execution_count": null,
   "metadata": {},
   "outputs": [],
   "source": [
    "def computeExternalForce(stiff_mat,mass_mat,f_ext,dofs_to_block,imp_displ,imp_acc):\n",
    "    nb_blocked = len(dofs_to_block)\n",
    "    for i in range(0,nb_blocked):\n",
    "        for j in stiff_mat.rows[dofs_to_block[i]]:\n",
    "            if(mass_mat is not None):\n",
    "                f_ext[j] -= stiff_mat[j,dofs_to_block[i]]*imp_displ[i] + mass_mat[j,dofs_to_block[i]]*imp_acc[i]       \n",
    "            else:\n",
    "                f_ext[j] -= stiff_mat[j,dofs_to_block[i]]*imp_displ[i]\n",
    "    return"
   ]
  },
  {
   "cell_type": "code",
   "execution_count": null,
   "metadata": {},
   "outputs": [],
   "source": [
    "def computeExternalForceNew(stiff_mat,mass_mat,f_ext,dirichelet,displ,acc):\n",
    "    f_ext[dirichelet==False] -= stiff_mat[dirichelet==False,:][:,dirichelet==True]*displ[dirichelet==True] \n",
    "    f_ext[dirichelet==False] -= mass_mat[dirichelet==False,:][:,dirichelet==True]*acc[dirichelet==True]\n",
    "    return"
   ]
  },
  {
   "cell_type": "code",
   "execution_count": null,
   "metadata": {},
   "outputs": [],
   "source": [
    "#Example of plates displaced at its center, clamped at its edge and supported by a ring piston \n",
    "pis_start=0.375\n",
    "pis_end=0.425\n",
    "\n",
    "dirichelet_nodes = np.zeros(nb_nodes,dtype=bool)\n",
    "dirichelet_nodes[nodes>pis_start] = True\n",
    "dirichelet_nodes[nodes>pis_end] *= False\n",
    "\n",
    "dirichelet_dofs = np.zeros(nb_nodes*dofs_per_node,dtype=bool)\n",
    "dirichelet_dofs[::2] = dirichelet_nodes\n",
    "#dirichelet_dofs[1::2] = dirichelet_nodes"
   ]
  },
  {
   "cell_type": "code",
   "execution_count": null,
   "metadata": {},
   "outputs": [],
   "source": [
    "delta_t = 1e-3\n",
    "nb_t_steps = 10000\n",
    "beta = 0.5 #unconditionally stable"
   ]
  },
  {
   "cell_type": "code",
   "execution_count": null,
   "metadata": {},
   "outputs": [],
   "source": [
    "K = spa.lil_matrix(K_ref,copy=True)\n",
    "K_full = spa.lil_matrix(K_ref,copy=True)\n",
    "M = spa.lil_matrix(M_ref,copy=True)\n",
    "M_full = spa.lil_matrix(M_ref,copy=True)\n",
    "fext = np.zeros(nb_nodes*dofs_per_node)\n",
    "d = np.zeros(nb_nodes*dofs_per_node)\n",
    "v = np.zeros(nb_nodes*dofs_per_node)\n",
    "a = np.zeros(nb_nodes*dofs_per_node)\n",
    "w = np.zeros((nb_nodes,nb_t_steps))\n",
    "force = np.zeros((nb_nodes*dofs_per_node,nb_t_steps))\n",
    "computeExternalForceNew(K,M,fext,dirichelet_dofs,d,a) #Imposed accelerations are zero\n",
    "#removeRowsAndColumns(K,blocked_dofs)\n",
    "#removeRowsAndColumns(M,blocked_dofs)\n",
    "K = K_full[dirichelet_dofs==False,:][:,dirichelet_dofs==False]\n",
    "M = M_full[dirichelet_dofs==False,:][:,dirichelet_dofs==False]\n",
    "K = K.tocsc()\n",
    "M = M.tocsc()\n",
    "A = spa.linalg.inv(M+0.5*beta*delta_t*delta_t*K)"
   ]
  },
  {
   "cell_type": "code",
   "execution_count": null,
   "metadata": {},
   "outputs": [],
   "source": [
    "for t in tqdm(range (0,nb_t_steps)):\n",
    "    #Update of B.C.\n",
    "    fext = np.zeros(nb_nodes*dofs_per_node)\n",
    "    if(t<nb_t_steps//10):\n",
    "        d[dirichelet_dofs==True]+= 0.2*delta_t\n",
    "    computeExternalForceNew(K_full,M_full,fext,dirichelet_dofs,d,a) #Imposed accelerations are zero\n",
    "        \n",
    "    #Newmark-beta algorithm\n",
    "    d[dirichelet_dofs==False] += v[dirichelet_dofs==False]*delta_t+0.5*a[dirichelet_dofs==False]*delta_t*delta_t\n",
    "    v[dirichelet_dofs==False] += a[dirichelet_dofs==False]*delta_t   \n",
    "    res = fext[dirichelet_dofs==False]-M*a[dirichelet_dofs==False]-K*d[dirichelet_dofs==False]\n",
    "    incr = A*res\n",
    "    a[dirichelet_dofs==False] += incr\n",
    "    v[dirichelet_dofs==False] += 0.5*incr*delta_t\n",
    "    d[dirichelet_dofs==False] += 0.5*beta*delta_t*delta_t*incr\n",
    "\n",
    "    force[:,t] = K_full*d + M_full*a\n",
    "\n",
    "    #Output\n",
    "    #w[0,t] = d_0[0]\n",
    "    w[:,t] = d[0::2]"
   ]
  },
  {
   "cell_type": "code",
   "execution_count": null,
   "metadata": {},
   "outputs": [],
   "source": [
    "from matplotlib.animation import FuncAnimation\n",
    "%matplotlib widget\n",
    "def timeanimation(t_step):\n",
    "    line.set_data(nodes, w[:,t_step])\n",
    "    return line\n",
    "fig,ax = plt.subplots(figsize=(10,4))\n",
    "line, = ax.plot([],color=\"firebrick\")\n",
    "ax.set_xlim(0,1)\n",
    "ax.set_ylim(0.,0.2)\n",
    "ax.set_xlabel('Plate radius $r/R$')\n",
    "ax.set_ylabel('Deflection $w/\\\\Omega$')\n",
    "anim = FuncAnimation(fig, timeanimation, frames=nb_t_steps, interval=250)\n",
    "plt.show()"
   ]
  },
  {
   "cell_type": "code",
   "execution_count": null,
   "metadata": {},
   "outputs": [],
   "source": [
    "plt.close()"
   ]
  },
  {
   "cell_type": "code",
   "execution_count": null,
   "metadata": {},
   "outputs": [],
   "source": [
    "d[dirichelet_dofs==True]=4.0"
   ]
  },
  {
   "cell_type": "code",
   "execution_count": null,
   "metadata": {},
   "outputs": [],
   "source": [
    "d[dirichelet_dofs==True]"
   ]
  },
  {
   "cell_type": "code",
   "execution_count": null,
   "metadata": {},
   "outputs": [],
   "source": [
    "a = np.linspace(0,1,10)"
   ]
  },
  {
   "cell_type": "code",
   "execution_count": null,
   "metadata": {},
   "outputs": [],
   "source": [
    "a[a<0.5]"
   ]
  },
  {
   "cell_type": "code",
   "execution_count": null,
   "metadata": {},
   "outputs": [],
   "source": [
    "plt.figure()\n",
    "plt.plot(force[100,:])\n",
    "plt.plot(force[102,:])\n",
    "plt.plot(force[104,:])\n",
    "plt.plot(force[106,:])\n",
    "plt.plot(force[106,:])\n",
    "#plt.plot(force[100,:]+force[102,:]+force[104,:]+force[106,:]+force[108,:])"
   ]
  },
  {
   "cell_type": "code",
   "execution_count": null,
   "metadata": {},
   "outputs": [],
   "source": [
    "fft = np.fft.fft(force[106,:])\n",
    "fftfrequ = np.fft.fftfreq(len(force[106,:]),1)"
   ]
  },
  {
   "cell_type": "code",
   "execution_count": null,
   "metadata": {},
   "outputs": [],
   "source": [
    "plt.figure()\n",
    "plt.plot(fftfrequ,np.abs(fft))"
   ]
  },
  {
   "cell_type": "code",
   "execution_count": null,
   "metadata": {},
   "outputs": [],
   "source": []
  }
 ],
 "metadata": {
  "kernelspec": {
   "display_name": "Python 3 (ipykernel)",
   "language": "python",
   "name": "python3"
  },
  "language_info": {
   "codemirror_mode": {
    "name": "ipython",
    "version": 3
   },
   "file_extension": ".py",
   "mimetype": "text/x-python",
   "name": "python",
   "nbconvert_exporter": "python",
   "pygments_lexer": "ipython3",
   "version": "3.13.2"
  }
 },
 "nbformat": 4,
 "nbformat_minor": 4
}
