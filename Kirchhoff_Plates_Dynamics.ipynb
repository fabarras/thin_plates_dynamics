{
 "cells": [
  {
   "cell_type": "markdown",
   "metadata": {},
   "source": [
    "# Dynamics of Kirchhoff Plates"
   ]
  },
  {
   "cell_type": "markdown",
   "metadata": {},
   "source": [
    "$D\\nabla^2\\nabla^2w = q - \\rho h\\ddot{w}$,\n",
    "\n",
    "with $w$ being the displacement normal to the plate, $q$ external normal stress applied along the plate, $h$ the plate thickness. Moreover\n",
    "\n",
    "$D = \\frac{Eh^3}{12(1-\\nu^2)}$,\n",
    "\n",
    "with $\\rho$, $E$ and $\\nu$ being the plate constitutive properties, respectively its density, Young's modulus and Poisson's ratio."
   ]
  },
  {
   "cell_type": "markdown",
   "metadata": {},
   "source": [
    "## Vibration of axisymmetric plates"
   ]
  },
  {
   "cell_type": "markdown",
   "metadata": {},
   "source": [
    "For circular plates in cylindrical coordinates and axisymmetric conditions $w=w(r,t)$, the equation of motion becomes:\n",
    "\n",
    "$D\\Big(\\frac{\\partial^4 w}{\\partial r^4}+\\frac{2}{r}\\frac{\\partial^3 w}{\\partial r^3}-\\frac{1}{r^2}\\frac{\\partial^2 w}{\\partial r^2}+\\frac{1}{r^3}\\frac{\\partial w}{\\partial r}\\Big) = q(r,t) - \\rho h \\frac{\\partial^2 w}{\\partial t^2}$.\n",
    "\n",
    "Neglecting the effect of external stress $q$ (free vibration) and applying the following separation of variables $w(r,t) = W(r)F(t)$, one gets\n",
    "\n",
    "$F\\Big(\\frac{d^4 W}{dr^4}+\\frac{2}{r}\\frac{d^3 W}{dr^3}-\\frac{1}{r^2}\\frac{d^2 W}{d r^2}+\\frac{1}{r^3}\\frac{d W}{d r}\\Big) = \\frac{-\\rho h}{D}W\\frac{d^2F}{dt^2}$\n",
    "\n",
    "Two functions of independent variables that are always equal must be constant, i.e.:\n",
    "\n",
    "$$\n",
    "\\left\\lbrace\n",
    "\\begin{align}\n",
    "\\omega^2 &= -\\frac{1}{F}\\frac{d^2F}{dt^2}\\\\\n",
    "\\omega^2 &= \\frac{D}{\\rho h}\\frac{1}{W}\\Big(\\frac{d^4 W}{dr^4}+\\frac{2}{r}\\frac{d^3 W}{dr^3}-\\frac{1}{r^2}\\frac{d^2 W}{d r^2}+\\frac{1}{r^3}\\frac{d W}{d r}\\Big)\n",
    "\\end{align}\n",
    "\\right.\n",
    "$$"
   ]
  },
  {
   "cell_type": "code",
   "execution_count": null,
   "metadata": {},
   "outputs": [],
   "source": [
    "import sympy as syp\n",
    "from sympy.abc import r,t\n",
    "F = syp.Function(\"F\")(t)\n",
    "om = syp.Symbol(\"\\omega\")\n",
    "equ = syp.Eq(om**2,-1/F*syp.Derivative(F,t,2))\n",
    "syp.dsolve(equ)"
   ]
  },
  {
   "cell_type": "markdown",
   "metadata": {},
   "source": [
    "$\\omega$ is then the pulsation"
   ]
  },
  {
   "cell_type": "code",
   "execution_count": null,
   "metadata": {},
   "outputs": [],
   "source": [
    "W = syp.Function(\"W\")(r)\n",
    "lam = syp.Symbol(\"\\lambda\")\n",
    "rhs = syp.Derivative(W,r,4)+2/r*syp.Derivative(W,r,3)-1/r**2*syp.Derivative(W,r,2)+1/r**3*syp.Derivative(W,r,1)\n",
    "lhs = lam**4 * W \n",
    "equ = syp.Eq(lhs,rhs)\n",
    "equ"
   ]
  },
  {
   "cell_type": "markdown",
   "metadata": {},
   "source": [
    "with $\\lambda^4 = \\omega^2\\rho h/D$."
   ]
  },
  {
   "cell_type": "code",
   "execution_count": null,
   "metadata": {},
   "outputs": [],
   "source": [
    "syp.dsolve(equ)"
   ]
  },
  {
   "cell_type": "markdown",
   "metadata": {},
   "source": [
    "Oups! We can still verify that $W(r)=C_3J_0(\\lambda r) + C_4I_0(\\lambda r)$ satisfies the equation:"
   ]
  },
  {
   "cell_type": "code",
   "execution_count": null,
   "metadata": {},
   "outputs": [],
   "source": [
    "c3, c4 = syp.symbols(\"C_3 C_4\")\n",
    "sol = c3*syp.besselj(0,lam*r)+c4*syp.besseli(0,lam*r)\n",
    "expr = rhs.subs([(W,sol)])\n",
    "syp.simplify(expr.doit())"
   ]
  },
  {
   "cell_type": "markdown",
   "metadata": {},
   "source": [
    "The constants $C_3$ and $C_4$ are then determined by the boundary conditions. For instance, a plate clamped along its edge requires that both $W$ and its first derivative are zero at $r=R$:\n",
    "\n",
    "$C_3J_0(\\lambda R) + C_4I_0(\\lambda R)=-C_3\\lambda J_1(\\lambda R) + C_4\\lambda I_0(\\lambda R)=0,$\n",
    "\n",
    "which leads to the following equation whose roots correspond to the modal frequencies of the plate:\n",
    "\n",
    "$J_0(\\lambda R)I_1(\\lambda R) + J_1(\\lambda R)I_0(\\lambda R) = 0$"
   ]
  },
  {
   "cell_type": "code",
   "execution_count": null,
   "metadata": {},
   "outputs": [],
   "source": [
    "import scipy.special as sp\n",
    "import numpy as np\n",
    "import matplotlib.pyplot as plt"
   ]
  },
  {
   "cell_type": "code",
   "execution_count": null,
   "metadata": {},
   "outputs": [],
   "source": [
    "r = np.linspace(0,10,100)\n",
    "fig1,ax1 = plt.subplots()\n",
    "ax1.plot(r,sp.jv(0,r)*sp.iv(1,r) + sp.jv(1,r)*sp.iv(0,r),\"r\")\n",
    "ax1.plot(r,np.zeros(r.shape),\"--k\")\n",
    "ax1.set_ylim(-5,5)\n",
    "ax1.set_xlabel(\"$\\lambda R$\")\n",
    "ax1.set_ylabel(\"$J_0(\\lambda R)I_1(\\lambda R) + J_1(\\lambda R)I_0(\\lambda R)$\")"
   ]
  },
  {
   "cell_type": "markdown",
   "metadata": {},
   "source": [
    "$\\lambda_n R = n\\pi,\\; n=0,1,2,3,...$ provides a good estimate of the first roots:"
   ]
  },
  {
   "cell_type": "code",
   "execution_count": null,
   "metadata": {},
   "outputs": [],
   "source": [
    "ax1.plot(np.pi*np.array([0,1,2,3]),np.zeros(4),'bo')\n",
    "fig1"
   ]
  },
  {
   "cell_type": "markdown",
   "metadata": {},
   "source": [
    "From the definition of $\\lambda$, the pulsations of a clamped Kirchhoff plate can then be estimated as:\n",
    "\n",
    "\\begin{equation}\n",
    "\\omega_n = \\lambda_n^2\\sqrt{\\frac{D}{\\rho h}} \\cong \\frac{h}{2}\\Big(\\frac{n\\pi}{R}\\Big)^2\\sqrt{\\frac{E}{3\\rho (1-\\nu^2)}}\n",
    "\\end{equation}\n",
    "\n",
    "The general solution of clamped plate vibration corresponds then to\n",
    "\\begin{equation}\n",
    "w(r,t) = \\sum_{n} C_3\\Big(J_0(\\lambda_n r) - \\frac{J_0(\\lambda_n R)}{I_0(\\lambda_nR)} I_0(\\lambda_n r)\\Big) \\Big(C_1e^{i\\omega_nt}+C_2e^{-i\\omega_nt}\\Big) \n",
    "\\end{equation}\n",
    "\n",
    "The exact values of the pulsation, as well as the associated plate deformation can also be estimated numerically:"
   ]
  },
  {
   "cell_type": "code",
   "execution_count": null,
   "metadata": {},
   "outputs": [],
   "source": [
    "n=3 #Mode number\n",
    "lamR = syp.Symbol(\"\\lambda R\")\n",
    "res = syp.nsolve(syp.besselj(0,lamR)*syp.besseli(1,lamR)+syp.besselj(1,lamR)*syp.besseli(0,lamR),lamR,n*np.pi)\n",
    "root = float(res)\n",
    "fig2,ax2 = plt.subplots()\n",
    "tilder = np.linspace(0,1,100)\n",
    "w = sp.jv(0,tilder*root) - sp.iv(0,tilder*root) * sp.jv(0,root)/sp.iv(0,root)\n",
    "ax2.plot(tilder,w/w[0],'r')\n",
    "ax2.set_xlabel('$r/R$')\n",
    "ax2.set_ylabel('$W_'+str(n)+'(r)/C_3$')\n",
    "ax2.set_title('$\\lambda_'+str(n)+'R/\\pi='+str(root/np.pi)+'$')"
   ]
  },
  {
   "cell_type": "markdown",
   "metadata": {},
   "source": [
    "## Finite element approximation"
   ]
  },
  {
   "cell_type": "markdown",
   "metadata": {},
   "source": [
    "The finite element method solves the plate equation of motion in its variational (or weak) form:\n",
    "\n",
    "\\begin{equation}\n",
    "D\\int_0^R \\Big(\\nabla^2w(r,t) \\nabla^2\\tilde{w}(r,t) rdr\\Big) = \\int_0^R\\Big(q(r,t)\\tilde{w}(r,t) rdr\\Big) -\\rho h \\int_0^R\\Big(\\ddot{w}(r,t)\\tilde{w}(r,t) rdr\\Big),\n",
    "\\end{equation}\n",
    "\n",
    "with $\\tilde{w}$ being an arbitrary test function of differentiability class $C^2$ that is zero on the region of the plate with imposed-displacement boundary conditions. (I will write a separate note detailing how to obtain this variational form). \n",
    "Next the plate of interest is discretized with sampling points ($=$nodes) from which the displacement field is interpolated over space following:\n",
    "\n",
    "$$\n",
    "w(r,t) = \\sum_i N_i(r)w_i(t) = \\underline{N}(r)\\cdot\\underline{d}(t),\n",
    "$$\n",
    "\n",
    "with $\\underline{d}$ a vector containing the values of the unknown field $w$ at the nodes and $\\underline{N}$ the associated vector containing the interpolation functions (aka shape functions). Using the same interpolation for $\\tilde{w}(x,t)= \\underline{N}(r)\\cdot\\underline{\\tilde{d}}(t)$, the variational form can be written as\n",
    "\n",
    "\\begin{equation}\n",
    "D\\int_0^R \\Big(\\nabla^2\\underline{N}\\underline{d} \\nabla^2\\underline{N}\\underline{\\tilde{d}} rdr\\Big) = \\int_0^R\\Big(q(r,t)\\underline{N}\\underline{\\tilde{d}} rdr\\Big) -\\rho h \\int_0^R\\Big(\\underline{N}\\underline{\\ddot{d}}\\underline{N}\\underline{\\tilde{d}} rdr\\Big).\n",
    "\\end{equation}\n",
    "\n",
    "The displacement vectors do not depend on $r$ and could be taken out of the integral by rewritting it as:\n",
    "\n",
    "\\begin{equation}\n",
    "\\underline{\\tilde{d}}^{\\top}D\\int_0^R \\Big(\\nabla^2\\underline{N}^\\top\\nabla^2\\underline{N}rdr\\Big)\\underline{d} = \\underline{\\tilde{d}}^{\\top}\\int_0^R\\Big(\\underline{N}^\\top q(r,t)rdr\\Big) - \\underline{\\tilde{d}}^{\\top}\\rho h\\int_0^R\\Big(\\underline{N}^\\top\\underline{N} rdr\\Big)\\underline{\\ddot{d}}.\n",
    "\\end{equation}"
   ]
  },
  {
   "cell_type": "markdown",
   "metadata": {},
   "source": [
    "As the test function is arbitrary, $\\underline{\\tilde{d}}^\\top$ can be dropped in the equation above which takes then the form:\n",
    "\\begin{equation}\n",
    "{\\bf K}\\underline{d} = \\underline{f}_{\\rm ext} - {\\bf M}\\underline{\\ddot{d}},\n",
    "\\end{equation}\n",
    "with ${\\bf K}$ and ${\\bf M}$ being respectively referred to as the stiffness and mass matrices. $\\underline{f}_{\\rm ext}$ is the vector of externally applied forces."
   ]
  },
  {
   "cell_type": "markdown",
   "metadata": {},
   "source": [
    "The strategy behind finite element modelling is to pick up interpolation functions that are piecewise polynomials taking finite values over some portion of the domain (aka the element) and being zero elsewhere. In the 1D geometry of interest, an element simply corresponds to a segment with two nodes at its edges. To guarantee the convergence of the numerical scheme, the choice of these polynomials must respect mainly two criteria:\n",
    "1) The interpolation should be of class $C^{m-1}$ across the element boundaries.\n",
    "\n",
    "2) The interpolation should be of class $C^{m}$ in the element and the polynomials should be complete up to degree $m$.\n",
    "\n",
    "$m$ corresponds to the order of the variational form of the equation, $m=2$ for Kirchhoff plate equation. \n",
    "1) requires both $w$ and $\\partial w/\\partial r\\equiv\\theta$ to be continuous between two elements, which could be achieved by settings both $w$ and its first derivative $\\theta$ as nodal unknowns (aka degrees of freedom). The displacements vector for an element reads then\n",
    "\\begin{equation}\n",
    "\\underline{d}^e \\equiv \\lbrace w_1, \\theta_1, w_2, \\theta_2\\rbrace,\n",
    "\\end{equation}\n",
    "with the subscript $1$ and $2$ referring respectively to the left and right nodes of the element.\n",
    "\n",
    "2) can be satisfied by using Hermite shape functions. They correspond to third-order polynomials defined as the displacement field obtained through an element by setting the degree of freedom of interest to one and the three others to zero. (This might become clearer after looking at the next cell)."
   ]
  },
  {
   "cell_type": "code",
   "execution_count": null,
   "metadata": {},
   "outputs": [],
   "source": [
    "#Computing Hermite shape functions for one element\n",
    "from sympy.abc import a,b,c,d\n",
    "dofs_per_node = 2\n",
    "nodes_per_elem = 2\n",
    "r, r1, r2 = syp.symbols('r r_1 r_2')\n",
    "uns = np.array([[1,0,0,0],[0,0,1,0],[0,1,0,0],[0,0,0,1]])\n",
    "N = []\n",
    "for u in range(0,dofs_per_node*nodes_per_elem):\n",
    "    shape = syp.solve_poly_system([a*r1*r1*r1+b*r1*r1+c*r1+d-uns[0,u],a*r2*r2*r2+b*r2*r2+c*r2+d-uns[1,u],3*a*r1*r1+2*b*r1+c-uns[2,u],3*a*r2*r2+2*b*r2+c-uns[3,u]], a, b, c, d)\n",
    "    func = shape[0][0]*r*r*r + shape[0][1]*r*r + shape[0][2]*r + shape[0][3]\n",
    "    N.append(syp.factor(func.simplify()))"
   ]
  },
  {
   "cell_type": "code",
   "execution_count": null,
   "metadata": {},
   "outputs": [],
   "source": [
    "#Display the shape function of interest (for an element between r=1 and r=2)\n",
    "shape_no = 2\n",
    "syp.plot(N[shape_no].subs([(r1,1),(r2,2)]),(r,1,2),title='$N= $'+str(N[shape_no]),ylabel=None)"
   ]
  },
  {
   "cell_type": "markdown",
   "metadata": {},
   "source": [
    "Once the shape functions have been properly defined, one can compute the element stiffess matrix (for the nodal positions $r=r_1$ and $r=r_2$):\n",
    "\\begin{equation}\n",
    "{\\bf K}^e \\equiv D\\int_{r_1}^{r_2} \\Big(\\nabla^2\\underline{N}^\\top\\nabla^2\\underline{N}rdr\\Big)\n",
    "\\end{equation}\n",
    "and the element mass matrix\n",
    "\\begin{equation}\n",
    "{\\bf M}^e \\equiv \\rho h\\int_{r_1}^{r_2} \\Big(\\underline{N}^\\top\\underline{N}rdr\\Big).\n",
    "\\end{equation}"
   ]
  },
  {
   "cell_type": "code",
   "execution_count": null,
   "metadata": {},
   "outputs": [],
   "source": [
    "#Taking D=1, \\rho h=1 (could be readily set to dimensional values later)\n",
    "k = []\n",
    "m = []\n",
    "for i in range(0,dofs_per_node*nodes_per_elem):\n",
    "    k.append([])\n",
    "    m.append([])\n",
    "    for j in range(i,dofs_per_node*nodes_per_elem):\n",
    "        nabla_Nt = syp.simplify(syp.diff(r*(syp.diff(N[i],r)),r)/r)\n",
    "        nabla_N = syp.simplify(syp.diff(r*(syp.diff(N[j],r)),r)/r)\n",
    "        k[i].append(syp.factor(syp.integrate(nabla_Nt*nabla_N*r,(r,r1,r2))))\n",
    "        m[i].append(syp.factor(syp.integrate(N[i]*N[j]*r,(r,r1,r2))))\n",
    "Kalg = syp.Matrix(4,4,lambda i,j: k[i][j-i] if(j>=i) else k[j][i-j])\n",
    "Malg = syp.Matrix(4,4,lambda i,j: m[i][j-i] if(j>=i) else m[j][i-j])"
   ]
  },
  {
   "cell_type": "markdown",
   "metadata": {},
   "source": [
    "Solving the finite element problem consists then by discretizing the plate of interest with elements"
   ]
  },
  {
   "cell_type": "code",
   "execution_count": null,
   "metadata": {},
   "outputs": [],
   "source": [
    "plate_radius = 1.0\n",
    "nb_nodes = 64\n",
    "nodes = np.linspace(0.,plate_radius,nb_nodes)\n",
    "nb_elements = nb_nodes-1 "
   ]
  },
  {
   "cell_type": "markdown",
   "metadata": {},
   "source": [
    "and computing the global matrices ${\\bf K}$ and ${\\bf M}$ as an assembly of the element matrices ${\\bf K}_e$ and ${\\bf M}_e$ evaluated for each element. The resulting ${\\bf K}$ and ${\\bf M}$ are sparse matrices of size _nb_dofs_ x _nb_dofs_."
   ]
  },
  {
   "cell_type": "code",
   "execution_count": null,
   "metadata": {},
   "outputs": [],
   "source": [
    "#Can take some time for fine mesh\n",
    "import scipy.sparse as spa\n",
    "from tqdm import tqdm\n",
    "K_ref = spa.lil_matrix((nb_nodes*dofs_per_node,nb_nodes*dofs_per_node),dtype=np.float64)\n",
    "M_ref = spa.lil_matrix((nb_nodes*dofs_per_node,nb_nodes*dofs_per_node),dtype=np.float64)\n",
    "for e in tqdm(range(0,nb_elements)):\n",
    "    n1 = e\n",
    "    n2 = e+1\n",
    "    for l in range(0, dofs_per_node*nodes_per_elem):\n",
    "        for c in range(0, dofs_per_node*nodes_per_elem):\n",
    "            K_ref[n1*dofs_per_node+l,n1*dofs_per_node+c] += syp.limit(syp.limit(Kalg[l,c], r1, nodes[n1]), r2, nodes[n2])\n",
    "            M_ref[n1*dofs_per_node+l,n1*dofs_per_node+c] += syp.limit(syp.limit(Malg[l,c], r1, nodes[n1]), r2, nodes[n2])"
   ]
  },
  {
   "cell_type": "markdown",
   "metadata": {},
   "source": [
    "Using this finite element approach, we now have some freedom to model different types of problems and boundary conditions."
   ]
  },
  {
   "cell_type": "markdown",
   "metadata": {},
   "source": [
    "### Example 1: modal analysis"
   ]
  },
  {
   "cell_type": "markdown",
   "metadata": {},
   "source": [
    "For instance, we can repeat numerically the modal analysis presented above. Neglecting again the effect of externally applied stress and using the same decomposition $w(r,t)=W(r)\\Big(C_1e^{i\\omega_nt}+C_2e^{-i\\omega_nt}\\Big)$, the finite element equation of motion becomes:\n",
    "\\begin{equation}\n",
    "{\\bf K}\\underline{d} = \\omega^2{\\bf M}\\underline{d},\n",
    "\\end{equation}\n",
    "which leads to the following eigenvalue problem\n",
    "\\begin{equation}\n",
    "{\\bf M}^{-1}{\\bf K}\\underline{d} = \\omega^2\\underline{d}.\n",
    "\\end{equation}"
   ]
  },
  {
   "cell_type": "markdown",
   "metadata": {},
   "source": [
    "First, we need to apply the boundary conditions, which implies to remove the blocked degrees of freedom and their associated rows and columns in ${\\bf K}$ and ${\\bf M}$."
   ]
  },
  {
   "cell_type": "code",
   "execution_count": null,
   "metadata": {},
   "outputs": [],
   "source": [
    "def removeRowsAndColumns(smat,indexes):\n",
    "    for index in np.sort(indexes)[::-1]:\n",
    "        smat.rows = np.delete(smat.rows, index)\n",
    "        smat.data = np.delete(smat.data, index)\n",
    "        l=0\n",
    "        for list in smat.rows:\n",
    "            i=0\n",
    "            while i<len(list):\n",
    "                if(list[i]>index):\n",
    "                    list[i] -= 1\n",
    "                elif(list[i]==index):\n",
    "                    del list[i]\n",
    "                    del smat.data[l][i]\n",
    "                    i-=1\n",
    "                i+=1\n",
    "            l+=1\n",
    "        smat._shape = (smat._shape[0]-1,smat._shape[1]-1)\n",
    "    return"
   ]
  },
  {
   "cell_type": "markdown",
   "metadata": {},
   "source": [
    "Axisymmetric condition always requires to block the second degree of freedom, such that $\\partial w/\\partial r$ is zero at the center of the plate. Moreover, to reproduce the conditions assumed previously, we need to clamp the plate at $r=R$ and hence block the two degrees of freedom of the last node."
   ]
  },
  {
   "cell_type": "code",
   "execution_count": null,
   "metadata": {},
   "outputs": [],
   "source": [
    "K = spa.lil_matrix(K_ref,copy=True)\n",
    "M = spa.lil_matrix(M_ref,copy=True)\n",
    "blocked_dofs = np.array([1,nb_nodes*dofs_per_node-2,nb_nodes*dofs_per_node-1])\n",
    "removeRowsAndColumns(K,blocked_dofs)\n",
    "removeRowsAndColumns(M,blocked_dofs)"
   ]
  },
  {
   "cell_type": "markdown",
   "metadata": {},
   "source": [
    "Then we can solve the eigenvalue problem:"
   ]
  },
  {
   "cell_type": "code",
   "execution_count": null,
   "metadata": {},
   "outputs": [],
   "source": [
    "import scipy.sparse.linalg\n",
    "#More efficient format for matrix operations\n",
    "K = K.tocsc()\n",
    "M = M.tocsc()\n",
    "invMK = spa.linalg.inv(M)@K\n",
    "#Solve for the first three modes\n",
    "puls, displ = spa.linalg.eigs(invMK,k=3,sigma=0,which='LM')"
   ]
  },
  {
   "cell_type": "markdown",
   "metadata": {},
   "source": [
    "and display the result:"
   ]
  },
  {
   "cell_type": "code",
   "execution_count": null,
   "metadata": {},
   "outputs": [],
   "source": [
    "n=3 #Mode number\n",
    "index = np.argsort(puls)[n-1]\n",
    "#Extract the displacements from the dofs (ignore the derivatives)\n",
    "w_fem = displ[1::2,index].real/displ[0,index].real\n",
    "w_fem = np.insert(w_fem,0,1.0)\n",
    "w_fem = np.insert(w_fem,-1,0.)\n",
    "fig3,ax3 = plt.subplots()\n",
    "ax3.plot(nodes,w_fem,'.-g')\n",
    "ax3.set_xlabel('$r/R$')\n",
    "ax3.set_ylabel('$W_'+str(n)+'(r)/C_3$')\n",
    "ax3.set_title('$\\omega_'+str(n)+'R^2(n\\\\pi)^{-2}\\sqrt{\\\\rho h/D}='+str(np.sqrt(puls[index].real)/((n*np.pi)**2))+'$')"
   ]
  },
  {
   "cell_type": "code",
   "execution_count": null,
   "metadata": {},
   "outputs": [],
   "source": [
    "#Superposition on the plot of the theoretical solution constructed previously\n",
    "ax2.plot(nodes,w_fem,'.g')\n",
    "fig2"
   ]
  },
  {
   "cell_type": "markdown",
   "metadata": {},
   "source": [
    "### Example 2: Dynamic simulation"
   ]
  },
  {
   "cell_type": "markdown",
   "metadata": {},
   "source": [
    "Dynamic simulation implies to compute the time evolution of $\\underline{d}$. First, time is sampled with a constant time step $\\Delta t$, such that the equation of motion of the finite element system at the $m^{\\rm th}$ time step writes:\n",
    "\\begin{equation}\n",
    "{\\bf M}\\ddot{\\underline{d}}^m+{\\bf K}\\underline{d}^m = \\underline{f}^m_{\\rm ext}.\n",
    "\\end{equation}\n",
    "Time integration between $t$ and $t+\\Delta t$ is then required to compute the degrees of freedom at the next time step $\\underline{d}^{m+1}$. This is typically done using a Newmark time stepping scheme. See the Appendix of the supporting note for detailed information about Newmark methods."
   ]
  },
  {
   "cell_type": "markdown",
   "metadata": {},
   "source": [
    "Newmark-$\\beta$ algorithm is adopted hereafter for the time integration and consists of the following steps:\n",
    "\n",
    "i) Compute residual $\\underline{r}^{m+1} = f_{\\rm ext}^{m+1} - {\\bf M}\\ddot{\\underline{d}}^{m} - {\\bf K}\\Big(\\underline{d}^{m}+\\dot{\\underline{d}}^{m}\\Delta t+\\ddot{\\underline{d}}^{m}\\frac{(\\Delta t)^2}{2}\\Big)$\n",
    "\n",
    "ii) Compute increment $\\ddot{\\delta}=\\Big({\\bf M}+\\beta{\\bf K}\\frac{(\\Delta t)^2}{2}\\Big)^{-1}\\underline{r}^{m+1}\\equiv{\\bf A}\\underline{r}^{m+1}$\n",
    "\n",
    "iii) Update degrees of freedom: \n",
    "\n",
    "$\\ddot{\\underline{d}}^{m+1} = \\ddot{\\underline{d}}^{m}+\\ddot{\\delta}$\n",
    "\n",
    "$\\dot{\\underline{d}}^{m+1} = \\dot{\\underline{d}}^{m}+\\Big(\\ddot{\\underline{d}}^{m}+\\frac{1}{2}\\ddot{\\delta}\\Big)\\Delta t$\n",
    "\n",
    "$\\underline{d}^{m+1} = \\underline{d}^{m}+\\dot{\\underline{d}}^{m}\\Delta t+\\Big(\\ddot{\\underline{d}}^{m}+\\beta\\ddot{\\delta}\\Big)\\frac{(\\Delta t)^2}{2}$\n",
    "\n",
    "Note that for the linear problems of interest ${\\bf M}$, ${\\bf K}$ and ${\\bf A}$ do not change with deformation and time integration is performed in a single execution of i), ii) and iii). For non-linear systems, those steps might have to be repeated iteratively. \n",
    "\n",
    "Two values of $\\beta$ are usually used in pratice. $\\beta=0.5$ has the advantage of being unconditionnaly stable. $\\beta=0$ can be used in association to a \"lumped mass matrix\" (diagonal approximation of ${\\bf M}$) to speed-up the Newmark scheme at the cost of a conditional stability (only small $\\Delta t$ are stable).  "
   ]
  },
  {
   "cell_type": "markdown",
   "metadata": {},
   "source": [
    "#### Boundary conditions"
   ]
  },
  {
   "cell_type": "markdown",
   "metadata": {},
   "source": [
    "Two types of boundary conditions can be applied to every degrees of freedom of the system. Either Dirichelet boudary condition (imposed-displacement) that sets the value of $d_d$ or Neumann boundary condition (imposed-force) that sets the value of $f_n$. (Note that no boundary condition usually corresponds to a free boundary condition, i.e. $f_n=0$.)\n",
    "Consequently, the unknowns to compute at each time step correspond to $d_n$ and $f_d$ Partitionning the equation of motion accordingly, one can write:\n",
    "\\begin{equation}\n",
    "\\left[\n",
    "\\begin{array}{c|c}\n",
    "{\\bf M}_{dd} & {\\bf M}_{dn}\\\\\n",
    "\\hline\n",
    "{\\bf M}_{nd} & {\\bf M}_{nn}\n",
    "\\end{array}\\right]\n",
    "\\left\\lbrace\n",
    "\\begin{array}{c}\n",
    "\\ddot{\\underline{d}}_d\\\\\n",
    "\\hline\n",
    "\\ddot{\\underline{d}}_n\n",
    "\\end{array}\\right\\rbrace +\n",
    "\\left[\n",
    "\\begin{array}{c|c}\n",
    "{\\bf K}_{dd} & {\\bf K}_{dn}\\\\\n",
    "\\hline\n",
    "{\\bf K}_{nd} & {\\bf K}_{nn}\n",
    "\\end{array}\\right]\n",
    "\\left\\lbrace\n",
    "\\begin{array}{c}\n",
    "\\underline{d}_d\\\\\n",
    "\\hline\n",
    "\\underline{d}_n\n",
    "\\end{array}\\right\\rbrace =\n",
    "\\left\\lbrace\n",
    "\\begin{array}{c}\n",
    "\\underline{f}_d\\\\\n",
    "\\hline\n",
    "\\underline{f}_n\n",
    "\\end{array}\\right\\rbrace.\n",
    "\\end{equation}\n",
    "From the linear system of equations above, one can compute the displacement unkowns by rewriting the second row as:\n",
    "\\begin{equation}\n",
    "{\\bf M}_{nn}\\ddot{\\underline{d}}_n + {\\bf K}_{nn}\\underline{d}_n = \\underline{f}_d - {\\bf M}_{nd}\\ddot{\\underline{d}}_d - {\\bf K}_{nd}\\underline{d}_d.\n",
    "\\end{equation}\n",
    "Applying the boundary conditions consists then in including the effect of blocked displacements (Dirichelet B.C.) in the array of external force: $\\underline{f}_{\\rm ext}\\equiv \\underline{f}_d - {\\bf M}_{nd}\\ddot{\\underline{d}}_d - {\\bf K}_{nd}\\underline{d}_d $ and removing the line and column of ${\\bf M}$ and ${\\bf K}$ associated to Neumann B.C before computing the Newmark integration scheme.\n",
    "\n",
    "(Side note: we could also compute the reaction forces $f_d$ associated to the blocked displacements by using the first row of the system of equations above. In the examples hereafter, these forces are of limited interest and this step is skipped.) "
   ]
  },
  {
   "cell_type": "code",
   "execution_count": null,
   "metadata": {},
   "outputs": [],
   "source": [
    "def computeExternalForce(stiff_mat,mass_mat,f_ext,dofs_to_block,imp_displ,imp_acc):\n",
    "    nb_blocked = len(dofs_to_block)\n",
    "    for i in range(0,nb_blocked):\n",
    "        for j in stiff_mat.rows[dofs_to_block[i]]:\n",
    "            if(mass_mat is not None):\n",
    "                f_ext[j] -= stiff_mat[j,dofs_to_block[i]]*imp_displ[i] + mass_mat[j,dofs_to_block[i]]*imp_acc[i]       \n",
    "            else:\n",
    "                f_ext[j] -= stiff_mat[j,dofs_to_block[i]]*imp_displ[i]\n",
    "    return"
   ]
  },
  {
   "cell_type": "code",
   "execution_count": null,
   "metadata": {},
   "outputs": [],
   "source": [
    "#Example: imposed oscillations at the edge of the plate\n",
    "delta_t = 1e-3\n",
    "nb_t_steps = 10000\n",
    "beta = 0.5 #unconditionally stable + the A matrix need to be inverted only once (elastic setup)"
   ]
  },
  {
   "cell_type": "markdown",
   "metadata": {},
   "source": [
    "At the edge of the plate, we impose an oscillatory displacement of the kind\n",
    "$\\bar{u}(t) = \\Omega\\sin(\\phi t)$. The associated imposed acceleration writes then \n",
    "$\\ddot{\\bar{u}}(t) = -\\Omega\\phi^2\\sin(\\phi t)$. The associated rotational degrees of freedom are constantly set to zero."
   ]
  },
  {
   "cell_type": "code",
   "execution_count": null,
   "metadata": {},
   "outputs": [],
   "source": [
    "phi = 25.\n",
    "Omega = 1.\n",
    "#Select the region where an osciatory displacement is imposed\n",
    "fix_start=0.99\n",
    "fix_end=1.0\n",
    "fix_nodes = np.arange(int(fix_start*nb_nodes),int(fix_end*nb_nodes),dtype=int)\n",
    "fix_dofs = np.arange(int(fix_start*nb_nodes)*dofs_per_node,(int(fix_end*nb_nodes))*dofs_per_node,dtype=int)\n",
    "blocked_dofs = np.insert(fix_dofs,0,1) #Rotation (2nd dof) at the center of the plate is always zero by symmetry\n",
    "print(blocked_dofs)\n",
    "#Applied B.C.\n",
    "K = spa.lil_matrix(K_ref,copy=True)\n",
    "M = spa.lil_matrix(M_ref,copy=True)\n",
    "removeRowsAndColumns(K,blocked_dofs)\n",
    "removeRowsAndColumns(M,blocked_dofs)\n",
    "K = K.tocsc()\n",
    "M = M.tocsc()\n",
    "A = spa.linalg.inv(M+0.5*beta*delta_t*delta_t*K)\n",
    "K_full = spa.lil_matrix(K_ref,copy=True)\n",
    "M_full = spa.lil_matrix(M_ref,copy=True)\n",
    "# Initialize arrays\n",
    "nb_blocked_dofs = len(blocked_dofs)\n",
    "d = np.zeros(nb_nodes*dofs_per_node-nb_blocked_dofs)\n",
    "v = np.zeros(nb_nodes*dofs_per_node-nb_blocked_dofs)\n",
    "a = np.zeros(nb_nodes*dofs_per_node-nb_blocked_dofs)\n",
    "#Output displacement\n",
    "w = np.zeros((nb_nodes,nb_t_steps))"
   ]
  },
  {
   "cell_type": "code",
   "execution_count": null,
   "metadata": {},
   "outputs": [],
   "source": [
    "for t in tqdm(range (0,nb_t_steps-1)):\n",
    "    #update boundary conditions\n",
    "    fext = np.zeros(nb_nodes*dofs_per_node)\n",
    "    u_imp = np.sin(phi*delta_t*t) *np.ones(nb_blocked_dofs)\n",
    "    a_imp = -phi*phi*u_imp *np.ones(nb_blocked_dofs)\n",
    "    u_imp[::2] = 0.\n",
    "    a_imp[::2] = 0.\n",
    "    computeExternalForce(K_full,M_full,fext,blocked_dofs,u_imp,a_imp)\n",
    "    fext = np.delete(fext,blocked_dofs)\n",
    "    \n",
    "    #Newmark-beta algorithm\n",
    "    d += v*delta_t+0.5*a*delta_t*delta_t\n",
    "    v += a*delta_t   \n",
    "    res = fext-M*a-K*d\n",
    "    incr = A*res\n",
    "    a += incr\n",
    "    v += 0.5*incr*delta_t\n",
    "    d += 0.5*beta*delta_t*delta_t*incr\n",
    "    \n",
    "    #Output\n",
    "    w[1:int(fix_start*nb_nodes),t] = d[1:int(fix_start*nb_nodes)*dofs_per_node:2]\n",
    "    w[0,t] = d[0]\n",
    "    w[int(fix_start*nb_nodes)::,t] = np.sin(phi*delta_t*t) *np.ones(len(fix_nodes))"
   ]
  },
  {
   "cell_type": "code",
   "execution_count": null,
   "metadata": {},
   "outputs": [],
   "source": [
    "from matplotlib.animation import FuncAnimation\n",
    "%matplotlib notebook\n",
    "def timeanimation(t_step):\n",
    "    line.set_data((np.append(-nodes[::-1],nodes), np.append(w[::-1,t_step],w[:,t_step])))\n",
    "    return line\n",
    "fig,ax = plt.subplots(figsize=(10,4))\n",
    "line, = ax.plot([],color=\"firebrick\")\n",
    "ax.set_xlim(-1,1)\n",
    "ax.set_ylim(-2.,2.)\n",
    "ax.set_xlabel('Plate radius $r/R$')\n",
    "ax.set_ylabel('Deflection $w/\\\\Omega$')\n",
    "anim = FuncAnimation(fig, timeanimation, frames=nb_t_steps, interval=25)\n",
    "plt.show()"
   ]
  },
  {
   "cell_type": "code",
   "execution_count": null,
   "metadata": {},
   "outputs": [],
   "source": [
    "plt.stem(np.sqrt(2*np.fft.rfftfreq(nb_t_steps,d=delta_t)[1::]/np.pi),np.abs(np.fft.rfft(w[0,:]))[1::])\n",
    "plt.plot([np.sqrt(phi/(np.pi*np.pi))],[0.],\"y*\",markersize=15)\n",
    "plt.xlabel('$\\\\sqrt{2 f/\\\\pi}$: integers correspond to vibration modes of the clamped plate')\n",
    "plt.ylabel('Amplitude')"
   ]
  },
  {
   "cell_type": "markdown",
   "metadata": {},
   "source": [
    "### Example 3: Release of static displacement"
   ]
  },
  {
   "cell_type": "markdown",
   "metadata": {},
   "source": [
    "A static displacement corresponds to a solution of the momentum equation with negligible acceleration:\n",
    "\\begin{equation}\n",
    "\\underline{d}^0 = {\\bf K}^{-1}\\underline{f}^0_{\\rm ext}.\n",
    "\\end{equation}"
   ]
  },
  {
   "cell_type": "code",
   "execution_count": null,
   "metadata": {},
   "outputs": [],
   "source": [
    "#Example of plates displaced at its center, clamped at its edge and supported by a ring piston \n",
    "pis_start=0.575\n",
    "pis_end=0.625\n",
    "piston_nodes = np.arange(int(pis_start*nb_nodes),int(pis_end*nb_nodes),dtype=int)\n",
    "piston_dofs = np.arange(int(pis_start*nb_nodes)*dofs_per_node,(int(pis_end*nb_nodes))*dofs_per_node,dtype=int)\n",
    "print(piston_nodes.shape,piston_dofs.shape)"
   ]
  },
  {
   "cell_type": "code",
   "execution_count": null,
   "metadata": {},
   "outputs": [],
   "source": [
    "K = spa.lil_matrix(K_ref,copy=True)\n",
    "f0ext = np.zeros(nb_nodes*dofs_per_node)\n",
    "val = np.zeros(len(piston_dofs)+3)\n",
    "val[0] = 1.0\n",
    "blocked_dofs = np.insert(piston_dofs,0,0)\n",
    "blocked_dofs = np.append(blocked_dofs,nb_nodes*dofs_per_node-2)\n",
    "blocked_dofs = np.append(blocked_dofs,nb_nodes*dofs_per_node-1)\n",
    "print(blocked_dofs)\n",
    "computeExternalForce(K,None,f0ext,blocked_dofs,val,None)\n",
    "removeRowsAndColumns(K,blocked_dofs)\n",
    "K = K.tocsc()\n",
    "f0ext = np.delete(f0ext,blocked_dofs)\n",
    "d_0 = spa.linalg.inv(K)*f0ext\n",
    "for idx in np.argsort(blocked_dofs):\n",
    "    d_0 = np.insert(d_0,blocked_dofs[idx],val[idx])"
   ]
  },
  {
   "cell_type": "code",
   "execution_count": null,
   "metadata": {},
   "outputs": [],
   "source": [
    "plt.plot(nodes,d_0[::2],'c')\n",
    "plt.plot(nodes[piston_nodes],d_0[piston_dofs][::2],'r')"
   ]
  },
  {
   "cell_type": "markdown",
   "metadata": {},
   "source": [
    "At time $t=0$, the system is in this static equilirium $d_0$, when the piston supporting the plate are instantaneously removed. This imply a redefinition of the boundary conditions:"
   ]
  },
  {
   "cell_type": "code",
   "execution_count": null,
   "metadata": {},
   "outputs": [],
   "source": [
    "K = spa.lil_matrix(K_ref,copy=True)\n",
    "M = spa.lil_matrix(M_ref,copy=True)\n",
    "fext = np.zeros(nb_nodes*dofs_per_node)\n",
    "val = np.array([d_0[0],0.,0.])\n",
    "blocked_dofs = np.array([0,nb_nodes*dofs_per_node-2,nb_nodes*dofs_per_node-1])\n",
    "print(blocked_dofs,val)\n",
    "computeExternalForce(K,None,fext,blocked_dofs,val,None) #Imposed accelerations are zero\n",
    "removeRowsAndColumns(K,blocked_dofs)\n",
    "removeRowsAndColumns(M,blocked_dofs)\n",
    "K = K.tocsc()\n",
    "M = M.tocsc()\n",
    "A = spa.linalg.inv(M+0.5*beta*delta_t*delta_t*K)\n",
    "fext = np.delete(fext,blocked_dofs)"
   ]
  },
  {
   "cell_type": "code",
   "execution_count": null,
   "metadata": {},
   "outputs": [],
   "source": [
    "delta_t = 1e-3\n",
    "nb_t_steps = 10000\n",
    "beta = 0.5 #unconditionally stable\n",
    "d = np.zeros(nb_nodes*dofs_per_node-3)\n",
    "v = np.zeros(nb_nodes*dofs_per_node-3)\n",
    "a = np.zeros(nb_nodes*dofs_per_node-3)\n",
    "w = np.zeros((nb_nodes,nb_t_steps))\n",
    "d = d_0[1:nb_nodes*dofs_per_node-2] #Initialize with the static displacement"
   ]
  },
  {
   "cell_type": "code",
   "execution_count": null,
   "metadata": {},
   "outputs": [],
   "source": [
    "for t in tqdm(range (0,nb_t_steps-1)):\n",
    "    #No update of B.C.\n",
    "    \n",
    "    #Newmark-beta algorithm\n",
    "    d += v*delta_t+0.5*a*delta_t*delta_t\n",
    "    v += a*delta_t   \n",
    "    res = fext-M*a-K*d\n",
    "    incr = A*res\n",
    "    a += incr\n",
    "    v += 0.5*incr*delta_t\n",
    "    d += 0.5*beta*delta_t*delta_t*incr\n",
    "    \n",
    "    #Output\n",
    "    w[0,t] = d_0[0]\n",
    "    w[1:nb_nodes-1,t] = d[1::2]"
   ]
  },
  {
   "cell_type": "code",
   "execution_count": null,
   "metadata": {},
   "outputs": [],
   "source": [
    "from matplotlib.animation import FuncAnimation\n",
    "%matplotlib notebook\n",
    "def timeanimation(t_step):\n",
    "    line.set_data((np.append(-nodes[::-1],nodes), np.append(w[::-1,t_step],w[:,t_step])))\n",
    "    return line\n",
    "fig,ax = plt.subplots(figsize=(10,4))\n",
    "line, = ax.plot([],color=\"firebrick\")\n",
    "ax.set_xlim(0,1)\n",
    "ax.set_ylim(0.,1.)\n",
    "ax.set_xlabel('Plate radius $r/R$')\n",
    "ax.set_ylabel('Deflection $w/\\\\Omega$')\n",
    "anim = FuncAnimation(fig, timeanimation, frames=nb_t_steps, interval=250)\n",
    "plt.show()"
   ]
  }
 ],
 "metadata": {
  "kernelspec": {
   "display_name": "Python 3",
   "language": "python",
   "name": "python3"
  },
  "language_info": {
   "codemirror_mode": {
    "name": "ipython",
    "version": 3
   },
   "file_extension": ".py",
   "mimetype": "text/x-python",
   "name": "python",
   "nbconvert_exporter": "python",
   "pygments_lexer": "ipython3",
   "version": "3.9.7"
  }
 },
 "nbformat": 4,
 "nbformat_minor": 4
}
